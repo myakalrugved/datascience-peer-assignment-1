{
 "cells": [
  {
   "cell_type": "markdown",
   "id": "d837e6cb",
   "metadata": {},
   "source": [
    "# Data Science Ecosystem"
   ]
  },
  {
   "cell_type": "markdown",
   "id": "b0712466",
   "metadata": {},
   "source": [
    "In this notebook, Data Science Tools and Ecosystem are summarized."
   ]
  },
  {
   "cell_type": "markdown",
   "id": "7648e8a6",
   "metadata": {},
   "source": [
    "Some of the popular languages that Data Scientists use are:\n",
    "    1. Python\n",
    "    2. R\n",
    "    3. SQL"
   ]
  },
  {
   "cell_type": "markdown",
   "id": "93219b02",
   "metadata": {},
   "source": []
  },
  {
   "cell_type": "markdown",
   "id": "04daad3f",
   "metadata": {},
   "source": [
    "Some of the commonly used libraries used by Data Scientists include:\n",
    "1.Tensor Flow\n",
    "2. Numpy \n",
    "3. Scipy"
   ]
  },
  {
   "cell_type": "markdown",
   "id": "87822313",
   "metadata": {},
   "source": [
    "|Data Science Tools|\n",
    "|------------------|\n",
    "|Knime|\n",
    "|Orange|\n",
    "|Ray|"
   ]
  },
  {
   "cell_type": "markdown",
   "id": "f13e27ee",
   "metadata": {},
   "source": [
    "### Below are a few examples of evaluating arithmetic expressions in Python"
   ]
  },
  {
   "cell_type": "code",
   "execution_count": 5,
   "id": "9d76dc2c",
   "metadata": {},
   "outputs": [
    {
     "data": {
      "text/plain": [
       "17"
      ]
     },
     "execution_count": 5,
     "metadata": {},
     "output_type": "execute_result"
    }
   ],
   "source": [
    "# This a simple arithmetic expression to mutiply then add integers\n",
    "(3*4)+5"
   ]
  },
  {
   "cell_type": "code",
   "execution_count": 6,
   "id": "efda1053",
   "metadata": {},
   "outputs": [
    {
     "data": {
      "text/plain": [
       "3.3333333333333335"
      ]
     },
     "execution_count": 6,
     "metadata": {},
     "output_type": "execute_result"
    }
   ],
   "source": [
    "#This will convert 200 minutes to hours by diving by 60\n",
    "(200/60)"
   ]
  },
  {
   "cell_type": "markdown",
   "id": "e2c8b704",
   "metadata": {},
   "source": [
    "Objectives:\n",
    "    1. List popular languages for Data Science\n",
    "    2. List popular tools\n",
    "    3. Arithmatic operations"
   ]
  },
  {
   "cell_type": "markdown",
   "id": "f6088905",
   "metadata": {},
   "source": [
    "## Author\n",
    "Rugved Myakal"
   ]
  },
  {
   "cell_type": "code",
   "execution_count": null,
   "id": "961eed80",
   "metadata": {},
   "outputs": [],
   "source": []
  }
 ],
 "metadata": {
  "kernelspec": {
   "display_name": "Python 3 (ipykernel)",
   "language": "python",
   "name": "python3"
  },
  "language_info": {
   "codemirror_mode": {
    "name": "ipython",
    "version": 3
   },
   "file_extension": ".py",
   "mimetype": "text/x-python",
   "name": "python",
   "nbconvert_exporter": "python",
   "pygments_lexer": "ipython3",
   "version": "3.9.12"
  }
 },
 "nbformat": 4,
 "nbformat_minor": 5
}
